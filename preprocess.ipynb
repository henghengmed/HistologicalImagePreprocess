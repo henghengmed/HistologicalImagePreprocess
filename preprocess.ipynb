{
 "cells": [
  {
   "cell_type": "markdown",
   "id": "593d50e1",
   "metadata": {},
   "source": [
    "# 安装相关套件\n",
    "## Step1.安装openslide (使用国内镜像加速)\n",
    "pip install openslide-bin -i https://pypi.tuna.tsinghua.edu.cn/simple/\n",
    "\n",
    "## Step2.安装pyhist\n",
    "git clone https://github.com/baidu-research/pyhist.git  \n",
    "cd PyHIST  \n",
    "pip install -e .  \n",
    "\n",
    "## Step3.下载一张svs格式的病理切片\n",
    "素材源于nih https://brd.nci.nih.gov/brd/specimen/GTEX-1117F-0126\n",
    "\n",
    "## 在这只要安装第一步即可，pyhist已经置入本专案中。"
   ]
  },
  {
   "cell_type": "markdown",
   "id": "c19c3dea",
   "metadata": {},
   "source": [
    "##### 打印层级信息  \n",
    "金字塔状"
   ]
  },
  {
   "cell_type": "code",
   "execution_count": null,
   "id": "1ba7729c",
   "metadata": {},
   "outputs": [],
   "source": [
    "import os, glob\n",
    "import openslide\n",
    "\n",
    "# 假设当前目录下有 *.svs\n",
    "svs_path = glob.glob('data/*.svs')[0]   # 自动取第一个文件\n",
    "print(\"使用文件：\", svs_path)\n",
    "\n",
    "slide = openslide.OpenSlide(svs_path)\n",
    "print(\"层级数量 :\", slide.level_count)\n",
    "for l in range(slide.level_count):\n",
    "    dims  = slide.level_dimensions[l]\n",
    "    down  = slide.level_downsamples[l]\n",
    "    print(f\"层级 {l}: 尺寸{dims}, 下采样因子{down:.2f}\")"
   ]
  },
  {
   "cell_type": "markdown",
   "id": "53a6e335",
   "metadata": {},
   "source": [
    "##### 使用PyHist进行切图"
   ]
  },
  {
   "cell_type": "code",
   "execution_count": null,
   "id": "d924b56e",
   "metadata": {},
   "outputs": [],
   "source": [
    "from src.slide import PySlide, TileGenerator\n",
    "import argparse\n",
    "import os, sys\n",
    "sys.path.insert(0, os.path.abspath(\"PyHIST\"))\n",
    "\n",
    "# 2. CLI 等价参数\n",
    "args = argparse.Namespace(\n",
    "    # 基本 IO\n",
    "    svs=svs_path,\n",
    "    output=\"out\",                     # 输出目录\n",
    "    format=\"png\",                     # patch 格式\n",
    "    info=\"default\",                   # 日志级别\n",
    "\n",
    "    # 切图参数\n",
    "    patch_size=256,\n",
    "    output_downsample=2,              # 20×\n",
    "    mask_downsample=16,               # 掩膜降采样\n",
    "    tilecross_downsample=16,          # 预览图降采样\n",
    "    content_threshold=0.3,            # 前景占比阈值\n",
    "    thres=0.3, \n",
    "    method=\"otsu\",                    # 无需编译，直接可用\n",
    "\n",
    "    # 保存控制\n",
    "    save_patches=True,\n",
    "    save_tilecrossed_image=True,\n",
    "    save_mask=True,\n",
    "    save_blank=False,\n",
    "    save_nonsquare=False,\n",
    "\n",
    "    # graph 专用（method 非 graph 时可忽略）\n",
    "    k_const=10000,\n",
    "    minimum_segmentsize=10000,\n",
    "    percentage_bc=5,\n",
    "    sigma=0.5,\n",
    "    borders=\"1111\",\n",
    "    corners=\"0000\",\n",
    "    save_edges=False,\n",
    "\n",
    "    # random sampling 专用（method 非 randomsampling 时可忽略）\n",
    "    npatches=100,\n",
    ")\n",
    "\n",
    "# 2. 转成字典再传入\n",
    "slide = PySlide(vars(args))   # ✅ vars(ns) 返回 dict\n",
    "extractor = TileGenerator(slide)\n",
    "extractor.execute()"
   ]
  }
 ],
 "metadata": {
  "kernelspec": {
   "display_name": "py38",
   "language": "python",
   "name": "python3"
  },
  "language_info": {
   "codemirror_mode": {
    "name": "ipython",
    "version": 3
   },
   "file_extension": ".py",
   "mimetype": "text/x-python",
   "name": "python",
   "nbconvert_exporter": "python",
   "pygments_lexer": "ipython3",
   "version": "3.8.18"
  }
 },
 "nbformat": 4,
 "nbformat_minor": 5
}
